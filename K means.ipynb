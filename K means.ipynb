{
 "cells": [
  {
   "cell_type": "code",
   "execution_count": null,
   "metadata": {},
   "outputs": [],
   "source": [
    "# K means Clustering\n",
    "# K means clustering \n",
    "# in this k means clustering we take first two rows as centroid and they are \n",
    "# the two cluster present after that we calculate the other cluters\n",
    "# using euclidean distance and calculate it whose euclidean value \n",
    "# is less that cluster belong to that particular cluster \n",
    "# then to claculate the new centroid we have to take the previous centroid value\n",
    "# and current row value to find the centroid value.\n",
    "# to find the centroid value : (previous value + current value)/2"
   ]
  }
 ],
 "metadata": {
  "kernelspec": {
   "display_name": "Python 3",
   "language": "python",
   "name": "python3"
  },
  "language_info": {
   "codemirror_mode": {
    "name": "ipython",
    "version": 2
   },
   "file_extension": ".py",
   "mimetype": "text/x-python",
   "name": "python",
   "nbconvert_exporter": "python",
   "pygments_lexer": "ipython2",
   "version": "2.7.17"
  }
 },
 "nbformat": 4,
 "nbformat_minor": 2
}
