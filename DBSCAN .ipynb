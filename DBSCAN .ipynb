{
 "cells": [
  {
   "cell_type": "code",
   "execution_count": 1,
   "metadata": {},
   "outputs": [],
   "source": [
    "# dbscan(density based spatial clustering of applications with noise)\n",
    "# This is unsupervised algorithm\n",
    "# it consist of core point, boundary point, noise point\n",
    "# as this cluster consist a radius from which we draw the circle \n",
    "# and if the circle consist of 3 circle it is called core point\n",
    "# and if less than 3 point it is boundary point\n",
    "# or if circle has 1 point it is called noise point or outlier"
   ]
  },
  {
   "cell_type": "code",
   "execution_count": null,
   "metadata": {},
   "outputs": [],
   "source": []
  }
 ],
 "metadata": {
  "kernelspec": {
   "display_name": "Python 3",
   "language": "python",
   "name": "python3"
  },
  "language_info": {
   "codemirror_mode": {
    "name": "ipython",
    "version": 3
   },
   "file_extension": ".py",
   "mimetype": "text/x-python",
   "name": "python",
   "nbconvert_exporter": "python",
   "pygments_lexer": "ipython3",
   "version": "3.8.5"
  }
 },
 "nbformat": 4,
 "nbformat_minor": 4
}
