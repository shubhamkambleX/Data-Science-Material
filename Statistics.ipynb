{
 "cells": [
  {
   "cell_type": "code",
   "execution_count": 2,
   "metadata": {},
   "outputs": [],
   "source": [
    "# *population  = whole circle (all the data inside it)\n",
    "# *sample population = piece of the data (1/4 th of the data )\n",
    "# *random varible \n",
    "# 1) discreate random variable \n",
    "# eg:= 1,2,3,4,5,6,7\n",
    "# 2) continuos random varible\n",
    "# eg = 1.1,1.2,1.3,1.4\n",
    "# *gaussion / normal distribution\n",
    "# we should know\n",
    "# 1)mean\n",
    "# 2)standard deviation\n",
    "# 3)variance\n",
    "# *log normal distribution\n",
    "# *Pearson Correlation coeffient\n",
    "# *Spearman correlation coeffient\n",
    "# *find outlier using z-score and IQR(inter quantile range)\n",
    "# Z-score formula\n",
    "# z = (observation- mean)/standard deviation\n",
    "# z = (x-u)/\n",
    "\n",
    "\n",
    "# when to use what.\n",
    "# mean   : if the outliers are present it can create massive range in mean and value will be grateter than median or ouliers are not present\n",
    "# median: most of the cases median can be used if ouliers are present "
   ]
  },
  {
   "cell_type": "code",
   "execution_count": 21,
   "metadata": {},
   "outputs": [],
   "source": [
    "import pandas as pd\n",
    "import numpy as np\n",
    "\n",
    "\n"
   ]
  },
  {
   "cell_type": "code",
   "execution_count": 51,
   "metadata": {},
   "outputs": [],
   "source": [
    "lst = [1,2,4,5,6,78,9,6,3,4,5,90,120]\n",
    "outliers = []\n",
    "def Detect_outlier(data):\n",
    "    \n",
    "    threshold = 2\n",
    "    mean = np.mean(data)\n",
    "    sd = np.std(data)\n",
    "    print(mean,sd)\n",
    "    \n",
    "    \n",
    "    for i in data:\n",
    "        z_score= (i - mean)/sd\n",
    "        print(z_score)\n",
    "        if np.abs(z_score) > threshold:\n",
    "            outliers.append(i)\n",
    "    return outliers"
   ]
  },
  {
   "cell_type": "code",
   "execution_count": 52,
   "metadata": {},
   "outputs": [
    {
     "name": "stdout",
     "output_type": "stream",
     "text": [
      "(25.615384615384617, 39.519300954457606)\n",
      "-0.6228699400263078\n",
      "-0.597565848712739\n",
      "-0.5469576660856015\n",
      "-0.5216535747720328\n",
      "-0.496349483458464\n",
      "1.3255450911184863\n",
      "-0.42043720951775776\n",
      "-0.496349483458464\n",
      "-0.5722617573991703\n",
      "-0.5469576660856015\n",
      "-0.5216535747720328\n",
      "1.6291941868813113\n",
      "2.3883169262883737\n"
     ]
    }
   ],
   "source": [
    "outlierPrint = Detect_outlier(lst)"
   ]
  },
  {
   "cell_type": "code",
   "execution_count": 53,
   "metadata": {},
   "outputs": [
    {
     "data": {
      "text/plain": [
       "[120]"
      ]
     },
     "execution_count": 53,
     "metadata": {},
     "output_type": "execute_result"
    }
   ],
   "source": [
    "outlierPrint"
   ]
  },
  {
   "cell_type": "code",
   "execution_count": 73,
   "metadata": {},
   "outputs": [
    {
     "data": {
      "text/plain": [
       "[1, 2, 3, 4, 4, 5, 5, 6, 6, 9, 78, 90, 120]"
      ]
     },
     "execution_count": 73,
     "metadata": {},
     "output_type": "execute_result"
    }
   ],
   "source": [
    "sorted(lst)"
   ]
  },
  {
   "cell_type": "code",
   "execution_count": 74,
   "metadata": {},
   "outputs": [],
   "source": [
    "# IQR methods to find outlier\n",
    "quantile1,quantile3 = np.percentile(lst,[25,75])"
   ]
  },
  {
   "cell_type": "code",
   "execution_count": 75,
   "metadata": {},
   "outputs": [
    {
     "name": "stdout",
     "output_type": "stream",
     "text": [
      "(4.0, 9.0)\n"
     ]
    }
   ],
   "source": [
    "print(quantile1,quantile3)"
   ]
  },
  {
   "cell_type": "code",
   "execution_count": 77,
   "metadata": {},
   "outputs": [
    {
     "name": "stdout",
     "output_type": "stream",
     "text": [
      "5.0\n"
     ]
    }
   ],
   "source": [
    "iqr_value = quantile3-quantile1\n",
    "print(iqr_value)"
   ]
  },
  {
   "cell_type": "code",
   "execution_count": 78,
   "metadata": {},
   "outputs": [],
   "source": [
    "lower_bond = quantile1 -(1.5*iqr_value)\n",
    "upper_bond = quantile3 +(1.5*iqr_value)"
   ]
  },
  {
   "cell_type": "code",
   "execution_count": 79,
   "metadata": {},
   "outputs": [
    {
     "name": "stdout",
     "output_type": "stream",
     "text": [
      "(-3.5, 16.5)\n"
     ]
    }
   ],
   "source": [
    "print(lower_bond,upper_bond)"
   ]
  },
  {
   "cell_type": "code",
   "execution_count": null,
   "metadata": {},
   "outputs": [],
   "source": [
    "# Normaliazation\n",
    "# it is used to scale down feature value from 0 to 1"
   ]
  }
 ],
 "metadata": {
  "kernelspec": {
   "display_name": "Python 3",
   "language": "python",
   "name": "python3"
  },
  "language_info": {
   "codemirror_mode": {
    "name": "ipython",
    "version": 3
   },
   "file_extension": ".py",
   "mimetype": "text/x-python",
   "name": "python",
   "nbconvert_exporter": "python",
   "pygments_lexer": "ipython3",
   "version": "3.8.5"
  }
 },
 "nbformat": 4,
 "nbformat_minor": 2
}
