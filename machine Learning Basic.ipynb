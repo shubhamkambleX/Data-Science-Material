{
 "cells": [
  {
   "cell_type": "code",
   "execution_count": 1,
   "metadata": {},
   "outputs": [],
   "source": [
    "# machine learning basic \n",
    "# machine learning types:\n",
    "#     supervised learning\n",
    "#     unsupervised learning\n",
    "#     reinforecment learning"
   ]
  },
  {
   "cell_type": "code",
   "execution_count": 2,
   "metadata": {},
   "outputs": [],
   "source": [
    "# how a problem is solved using machine learning\n",
    "\n",
    "# there are 5 question which can be answers\n",
    "\n",
    "# 1) is this A or B or belongs to            Classification Algorithm\n",
    "# 2) how much or how many                    Regression Algorithm\n",
    "# 3) how is this organised                   Clustering Algorithm\n",
    "# 4) what should i do next                   Reinforecment Algorithm\n",
    "# 5) is this wired                           Anomaly Detection Algorithm\n"
   ]
  },
  {
   "cell_type": "code",
   "execution_count": null,
   "metadata": {},
   "outputs": [],
   "source": [
    "# Classification Algorithm\n",
    "    # Logistic Regression\n",
    "    # Support Vector Machine\n",
    "    # Random Forest\n",
    "    # Navie Bayes\n",
    "# Regression Algorithm\n",
    "#     Linear Regression\n",
    "# ClusteringAlgorithm\n",
    "#     K-means\n",
    "#     LDA\n",
    "# Dimensionally Reduction\n",
    "#     Principal Component Analysis"
   ]
  }
 ],
 "metadata": {
  "kernelspec": {
   "display_name": "Python 3",
   "language": "python",
   "name": "python3"
  },
  "language_info": {
   "codemirror_mode": {
    "name": "ipython",
    "version": 2
   },
   "file_extension": ".py",
   "mimetype": "text/x-python",
   "name": "python",
   "nbconvert_exporter": "python",
   "pygments_lexer": "ipython2",
   "version": "2.7.17"
  }
 },
 "nbformat": 4,
 "nbformat_minor": 2
}
