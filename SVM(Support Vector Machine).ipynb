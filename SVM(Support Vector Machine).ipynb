{
 "cells": [
  {
   "cell_type": "code",
   "execution_count": 2,
   "metadata": {},
   "outputs": [],
   "source": [
    "# SVM it is the supervised Machine Algorithnm basically used for classification and regression \n",
    "# in this SVM consist of Linear and Non linear seperable in which linear means we can seperate the circle and reactangle into different parts\n",
    "# but in non linear we cannot seperate it.\n",
    "# In this we have to linearly draw the line to seperate the two different class and the line is called hyperplane \n",
    "# In this the class A point which is close to class B and the class B point close to class A they are called support vectors\n",
    "# from this support vectors we have to draw the line and the distance between them is called marginal"
   ]
  },
  {
   "cell_type": "code",
   "execution_count": null,
   "metadata": {},
   "outputs": [],
   "source": [
    "# In NON Linear SVM basically are deal with the the kernal fucntion  in which low dimentional data is given and high dimensional\n",
    "# data is taken from which the data can seperated and hyperplane line can be drawn"
   ]
  }
 ],
 "metadata": {
  "kernelspec": {
   "display_name": "Python 3",
   "language": "python",
   "name": "python3"
  },
  "language_info": {
   "codemirror_mode": {
    "name": "ipython",
    "version": 2
   },
   "file_extension": ".py",
   "mimetype": "text/x-python",
   "name": "python",
   "nbconvert_exporter": "python",
   "pygments_lexer": "ipython2",
   "version": "2.7.17"
  }
 },
 "nbformat": 4,
 "nbformat_minor": 2
}
